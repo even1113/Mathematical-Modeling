version https://git-lfs.github.com/spec/v1
oid sha256:bff1dcde46af12073cbec4e369b1ad45e9efc0ac0132b5a497f96fa69d435e18
size 1288144
